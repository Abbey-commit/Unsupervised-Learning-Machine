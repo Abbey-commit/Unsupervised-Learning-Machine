{
 "cells": [
  {
   "cell_type": "code",
   "execution_count": 3,
   "metadata": {},
   "outputs": [
    {
     "name": "stdout",
     "output_type": "stream",
     "text": [
      "PNG\n",
      "(1280, 720)\n",
      "RGB\n"
     ]
    }
   ],
   "source": [
    "# load and show an image with Pillow\n",
    "from PIL import Image\n",
    "\n",
    "# Open the image from working directory\n",
    "image = Image.open(\"tiger.png\")\n",
    "# summarize some details about the image\n",
    "print(image.format)\n",
    "print(image.size)\n",
    "print(image.mode)\n",
    "# show the image\n",
    "image.show()"
   ]
  },
  {
   "cell_type": "code",
   "execution_count": 6,
   "metadata": {},
   "outputs": [
    {
     "name": "stdout",
     "output_type": "stream",
     "text": [
      "<class 'numpy.ndarray'>\n",
      "(720, 1280, 3)\n"
     ]
    }
   ],
   "source": [
    "from numpy import asarray\n",
    "\n",
    "# Convert image to numpy  array\n",
    "data = asarray(image)\n",
    "print(type(data))\n",
    "print(data.shape)"
   ]
  },
  {
   "cell_type": "code",
   "execution_count": 9,
   "metadata": {},
   "outputs": [
    {
     "name": "stdout",
     "output_type": "stream",
     "text": [
      "<class 'PIL.Image.Image'>\n"
     ]
    }
   ],
   "source": [
    "# create Pillow image\n",
    "img = Image.fromarray(data)\n",
    "print(type(img))\n",
    "img.show()"
   ]
  },
  {
   "cell_type": "code",
   "execution_count": 11,
   "metadata": {},
   "outputs": [
    {
     "name": "stdout",
     "output_type": "stream",
     "text": [
      "RGB\n",
      "(1280, 720)\n"
     ]
    }
   ],
   "source": [
    "print(img.mode)\n",
    "print(img.size)"
   ]
  },
  {
   "cell_type": "code",
   "execution_count": 12,
   "metadata": {},
   "outputs": [
    {
     "name": "stdout",
     "output_type": "stream",
     "text": [
      "[[[164 160 159]\n",
      "  [165 161 160]\n",
      "  [164 163 161]\n",
      "  ...\n",
      "  [160 128  90]\n",
      "  [158 125  90]\n",
      "  [161 128  93]]\n",
      "\n",
      " [[164 160 159]\n",
      "  [164 160 159]\n",
      "  [163 162 160]\n",
      "  ...\n",
      "  [164 132  94]\n",
      "  [162 129  94]\n",
      "  [157 124  89]]\n",
      "\n",
      " [[163 159 156]\n",
      "  [164 160 157]\n",
      "  [163 162 160]\n",
      "  ...\n",
      "  [164 132  94]\n",
      "  [162 129  94]\n",
      "  [157 124  89]]\n",
      "\n",
      " ...\n",
      "\n",
      " [[ 93  94  96]\n",
      "  [ 93  94  96]\n",
      "  [ 92  93  95]\n",
      "  ...\n",
      "  [120 116 107]\n",
      "  [121 117 108]\n",
      "  [122 118 109]]\n",
      "\n",
      " [[ 93  94  96]\n",
      "  [ 93  94  96]\n",
      "  [ 92  93  95]\n",
      "  ...\n",
      "  [120 116 107]\n",
      "  [121 117 108]\n",
      "  [122 118 109]]\n",
      "\n",
      " [[ 93  94  96]\n",
      "  [ 93  94  96]\n",
      "  [ 92  93  95]\n",
      "  ...\n",
      "  [119 115 106]\n",
      "  [121 117 108]\n",
      "  [122 118 109]]]\n"
     ]
    }
   ],
   "source": [
    "print(data)"
   ]
  },
  {
   "cell_type": "code",
   "execution_count": null,
   "metadata": {},
   "outputs": [],
   "source": []
  }
 ],
 "metadata": {
  "kernelspec": {
   "display_name": "Python 3",
   "language": "python",
   "name": "python3"
  },
  "language_info": {
   "codemirror_mode": {
    "name": "ipython",
    "version": 3
   },
   "file_extension": ".py",
   "mimetype": "text/x-python",
   "name": "python",
   "nbconvert_exporter": "python",
   "pygments_lexer": "ipython3",
   "version": "3.7.6"
  }
 },
 "nbformat": 4,
 "nbformat_minor": 4
}
